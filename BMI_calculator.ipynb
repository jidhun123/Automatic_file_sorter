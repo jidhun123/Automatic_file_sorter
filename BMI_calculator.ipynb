{
 "cells": [
  {
   "cell_type": "code",
   "execution_count": 5,
   "id": "7b3ced0f-821b-41a6-8e21-f62de6abf21a",
   "metadata": {},
   "outputs": [
    {
     "name": "stdin",
     "output_type": "stream",
     "text": [
      "Enter your name:  jidhun\n",
      "Enter a weight in kg:  58\n",
      "Enter a height in cm:  165\n"
     ]
    },
    {
     "name": "stdout",
     "output_type": "stream",
     "text": [
      "Your BMI is:21.30394857667585\n",
      "jidhun, You are normal weight\n"
     ]
    }
   ],
   "source": [
    "name = input(\"Enter your name: \")\n",
    "weight = int(input(\"Enter a weight in kg: \"))\n",
    "height = int(input(\"Enter a height in cm: \"))\n",
    "height_meters = height/100\n",
    "bmi = weight/(height_meters ** 2)\n",
    "print(f\"Your BMI is:{bmi}\")\n",
    "if bmi > 0:\n",
    "    if(bmi<18.5):\n",
    "        print(f\"{name}, You are underweight.\")\n",
    "    elif(bmi<=24.9):\n",
    "        print(f\"{name}, You are normal weight\")\n",
    "    elif(bmi<=29.9):\n",
    "        print(f\"{name}, You are overweight\")\n",
    "    elif(bmi<=34.9):\n",
    "        print(f\"{name}, You are obese\")\n",
    "    elif(bmi<=39.9):\n",
    "        print(f\"{name}, You are severly obese\")\n",
    "    elif(bmi<=40):\n",
    "        print(f\"{name}, You are high risk\")\n",
    "    else:\n",
    "        print(f\"{name}, Entered Invalid input\")"
   ]
  },
  {
   "cell_type": "code",
   "execution_count": null,
   "id": "fcccb473-13f2-4202-ac52-2164ce2b840b",
   "metadata": {},
   "outputs": [],
   "source": []
  },
  {
   "cell_type": "code",
   "execution_count": null,
   "id": "9dd823fe-153f-4e34-81aa-9142bd6a7b58",
   "metadata": {},
   "outputs": [],
   "source": []
  },
  {
   "cell_type": "code",
   "execution_count": null,
   "id": "c38348a5-619a-4ee6-b933-e60aaffe8bdd",
   "metadata": {},
   "outputs": [],
   "source": []
  },
  {
   "cell_type": "code",
   "execution_count": null,
   "id": "93fbb749-f776-489b-aab9-d65ebf24a2c9",
   "metadata": {},
   "outputs": [],
   "source": []
  }
 ],
 "metadata": {
  "kernelspec": {
   "display_name": "Python 3 (ipykernel)",
   "language": "python",
   "name": "python3"
  },
  "language_info": {
   "codemirror_mode": {
    "name": "ipython",
    "version": 3
   },
   "file_extension": ".py",
   "mimetype": "text/x-python",
   "name": "python",
   "nbconvert_exporter": "python",
   "pygments_lexer": "ipython3",
   "version": "3.11.7"
  }
 },
 "nbformat": 4,
 "nbformat_minor": 5
}
