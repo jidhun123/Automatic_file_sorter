{
 "cells": [
  {
   "cell_type": "code",
   "execution_count": null,
   "id": "d9db5b9d-3863-49c4-b82b-1a97776c9dfe",
   "metadata": {},
   "outputs": [],
   "source": [
    "import os, shutil"
   ]
  },
  {
   "cell_type": "code",
   "execution_count": null,
   "id": "1b74a0ac-f366-48e8-b22a-26359a504383",
   "metadata": {},
   "outputs": [],
   "source": [
    "path = r\"/Users/jidhunkmadhu/Downloads/\""
   ]
  },
  {
   "cell_type": "code",
   "execution_count": null,
   "id": "36e17230-560a-4cd2-9f60-ee71fe374a70",
   "metadata": {},
   "outputs": [],
   "source": [
    "file_name= os.listdir(path)"
   ]
  },
  {
   "cell_type": "code",
   "execution_count": 25,
   "id": "a5d0756b-e639-46a7-b0ab-06e32195e1de",
   "metadata": {},
   "outputs": [
    {
     "name": "stdout",
     "output_type": "stream",
     "text": [
      "There are files in this path were not moved\n"
     ]
    }
   ],
   "source": [
    "folder_names = ['image files','html files','pdf files','py files']\n",
    "\n",
    "for loop in range(len(folder_names)) :\n",
    "    if not os.path.exists(path + folder_names[loop]):\n",
    "        os.makedirs(path+folder_names[loop])\n",
    "for file in file_name:\n",
    "    if \".pdf\"in file and not os.path.exists(path + \"pdf files/\" + file):\n",
    "        shutil.move(path + file, path + \"pdf files/\" + file)\n",
    "    elif \".jpg\"in file and not os.path.exists(path + \"image files/\" + file):\n",
    "        shutil.move(path + file, path + \"image files/\" + file)\n",
    "    elif \".py\"in file and not os.path.exists(path + \"py files/\" + file):\n",
    "        shutil.move(path + file, path + \"py files/\" + file)\n",
    "    elif \".html\"in file and not os.path.exists(path + \"html files/\" + file):\n",
    "        shutil.move(path + file, path + \"html files/\" + file)\n",
    "else:\n",
    "    print(\"There are files in this path were not moved\")\n"
   ]
  },
  {
   "cell_type": "code",
   "execution_count": null,
   "id": "eea2a98b-fe5b-41ae-b7cd-2150f651f197",
   "metadata": {},
   "outputs": [],
   "source": []
  },
  {
   "cell_type": "code",
   "execution_count": null,
   "id": "38666719-f9d9-4b70-aac6-9c25a564eb52",
   "metadata": {},
   "outputs": [],
   "source": []
  }
 ],
 "metadata": {
  "kernelspec": {
   "display_name": "Python 3 (ipykernel)",
   "language": "python",
   "name": "python3"
  },
  "language_info": {
   "codemirror_mode": {
    "name": "ipython",
    "version": 3
   },
   "file_extension": ".py",
   "mimetype": "text/x-python",
   "name": "python",
   "nbconvert_exporter": "python",
   "pygments_lexer": "ipython3",
   "version": "3.11.7"
  }
 },
 "nbformat": 4,
 "nbformat_minor": 5
}
